{
 "cells": [
  {
   "cell_type": "markdown",
   "metadata": {
    "pycharm": {
     "name": "#%% md\n"
    }
   },
   "source": [
    "# Product 'Hint' - Empirical Guidelines for Effective Social Product Launching\n",
    "\n",
    "## Research Goal\n",
    "\n",
    "The main goal of this research is to understand what factors drive to successful app \n",
    "launching on Product Hunt (PH), where *success* is defined as whether a product is \n",
    "featured among the daily popular on the PH homepage. Popular app are upvoted by \n",
    "community members.\n",
    "\n",
    "Products are discovered by a 'hunter' on PH, a community members who scavenge the Internet\n",
    "seeking new applications. Sometimes the hunter is also one of the app 'makers' who want\n",
    "to launch and advertise a new product -- as being featured among the PH's daily popular\n",
    "represent a considerable boost in visibility. \n",
    "\n",
    "PH has compiled a set of publicly available [guidelines](?) for successful launches, yet we do \n",
    "not know whether these rules are implemented by community members and, in case, if they work.\n",
    "In our previous work on Stack Overflow (SO), we empirically verified that some of the \n",
    "recommended guidelines provided by SO do not actually work and, when they do, they are \n",
    "seldom [F. Calefato et al. “How to Ask for Technical Help?\n",
    " Evidence-based Guidelines for Writing Questions on Stack Overflow.” IST 2018, 94:186-207, \n",
    " DOI: 10.1016/j.infsof.2017.10.009](https://arxiv.org/ftp/arxiv/papers/1710/1710.04692.pdf).\n",
    "\n",
    "## Research Question\n",
    "\n",
    "The broad research question that this experiment investigates is the following:\n",
    "***What factors are predictive of the number of upvotes on PH?***\n",
    "\n",
    "\n",
    "## Model development\n",
    "\n",
    "### Dependent variable\n",
    "\n",
    "*Score*: a positive integer, the number of upvotes received by community members who appreciate\n",
    "the application.\n",
    "\n",
    "Because the score is left-censored (bounded by zero) counter, the most suitable approach \n",
    "appears to build a count data model, as these models have a dependent variable that is \n",
    "counts (i.e., 0, 1, 2, 3, and so on).\n",
    "\n",
    "\n",
    "### Predictive factors (independent vars)\n",
    "\n",
    "Regarding the factors, we are considering\n",
    "* *Reputation*, of both the hunter and the maker, if different\n",
    "* *Time*, when the product is hunted/launched (posted, from now on); as the homepage is \n",
    "refreshed at 12:01am PST on a 24h-cycle, the recommended best practice is to post at \n",
    "9:00 am PST so that there is enough time in the day for people to discover and discuss\n",
    "an application. Also, weekends tend to be slower, so recommended days are Mondays and \n",
    "Tuesdays. \n",
    "* *Presentation quality*, which is achieved in different ways such as using a short, catchy \n",
    "tagline, using animated GIFs, YouTube videos, and emoji. Also the length of textual description \n",
    "may have an effect, as guidelines recommend to be specific. \n",
    "* *Sentiment (or affect)*, as in the positive, negative, neutral orientation conveyed by the textual\n",
    "description of the tool, which may or may not affect the number of upvotes received (i.e., score).\n",
    "* *Nurturing*, or whether the maker engages in the discussion with the other members who \n",
    "leave comments and reviews. A participating and communicative maker may foster a more favorable \n",
    "judgment for the tool and, hence, attract more upvotes.\n",
    "\n",
    "These points should be rewritten in form of testable hypotheses, one or more per factor.\n",
    "\n",
    "## Experiment report\n",
    "\n",
    "%%writefile ~/.comet.config\n",
    "[comet]\n",
    "api_key='0grSL4DNNTlQLkFNuVEnLOd2m'\n",
    "rest_api_key='A7MLlBkM42S10o4XuuXE7wzU0'\n"
   ]
  },
  {
   "cell_type": "code",
   "execution_count": 1,
   "outputs": [
    {
     "traceback": [
      "\u001b[0;31m---------------------------------------------------------------------------\u001b[0m",
      "\u001b[0;31mValueError\u001b[0m                                Traceback (most recent call last)",
      "\u001b[0;32m<ipython-input-1-4f6866ef273b>\u001b[0m in \u001b[0;36m<module>\u001b[0;34m\u001b[0m\n\u001b[1;32m      5\u001b[0m \u001b[0mget_ipython\u001b[0m\u001b[0;34m(\u001b[0m\u001b[0;34m)\u001b[0m\u001b[0;34m.\u001b[0m\u001b[0mrun_line_magic\u001b[0m\u001b[0;34m(\u001b[0m\u001b[0;34m'matplotlib'\u001b[0m\u001b[0;34m,\u001b[0m \u001b[0;34m'inline'\u001b[0m\u001b[0;34m)\u001b[0m\u001b[0;34m\u001b[0m\u001b[0;34m\u001b[0m\u001b[0m\n\u001b[1;32m      6\u001b[0m \u001b[0;34m\u001b[0m\u001b[0m\n\u001b[0;32m----> 7\u001b[0;31m \u001b[0mcomet_api\u001b[0m \u001b[0;34m=\u001b[0m \u001b[0mAPI\u001b[0m\u001b[0;34m(\u001b[0m\u001b[0;34m)\u001b[0m\u001b[0;34m\u001b[0m\u001b[0;34m\u001b[0m\u001b[0m\n\u001b[0m\u001b[1;32m      8\u001b[0m \u001b[0mexp\u001b[0m \u001b[0;34m=\u001b[0m \u001b[0mcomet_api\u001b[0m\u001b[0;34m.\u001b[0m\u001b[0mget\u001b[0m\u001b[0;34m(\u001b[0m\u001b[0;34m\"bateman\"\u001b[0m\u001b[0;34m,\u001b[0m \u001b[0;34m\"producthint\"\u001b[0m\u001b[0;34m,\u001b[0m \u001b[0;34m'96460244cb694accbf0d50a08516bd21'\u001b[0m\u001b[0;34m)\u001b[0m\u001b[0;34m\u001b[0m\u001b[0;34m\u001b[0m\u001b[0m\n",
      "\u001b[0;32m/usr/local/anaconda3/envs/PH_miner/lib/python3.7/site-packages/comet_ml/api.py\u001b[0m in \u001b[0;36m__init__\u001b[0;34m(self, api_key, rest_api_key, version, persistent)\u001b[0m\n\u001b[1;32m    519\u001b[0m         \u001b[0mself\u001b[0m\u001b[0;34m.\u001b[0m\u001b[0m_rest_api_key\u001b[0m \u001b[0;34m=\u001b[0m \u001b[0mget_rest_api_key\u001b[0m\u001b[0;34m(\u001b[0m\u001b[0mrest_api_key\u001b[0m\u001b[0;34m,\u001b[0m \u001b[0mself\u001b[0m\u001b[0;34m.\u001b[0m\u001b[0m_config\u001b[0m\u001b[0;34m)\u001b[0m\u001b[0;34m\u001b[0m\u001b[0;34m\u001b[0m\u001b[0m\n\u001b[1;32m    520\u001b[0m         \u001b[0mself\u001b[0m\u001b[0;34m.\u001b[0m\u001b[0m_api_key\u001b[0m \u001b[0;34m=\u001b[0m \u001b[0mget_api_key\u001b[0m\u001b[0;34m(\u001b[0m\u001b[0mapi_key\u001b[0m\u001b[0;34m,\u001b[0m \u001b[0mself\u001b[0m\u001b[0;34m.\u001b[0m\u001b[0m_config\u001b[0m\u001b[0;34m)\u001b[0m\u001b[0;34m\u001b[0m\u001b[0;34m\u001b[0m\u001b[0m\n\u001b[0;32m--> 521\u001b[0;31m         \u001b[0mself\u001b[0m\u001b[0;34m.\u001b[0m\u001b[0mupdate_cache\u001b[0m\u001b[0;34m(\u001b[0m\u001b[0;34m)\u001b[0m\u001b[0;34m\u001b[0m\u001b[0;34m\u001b[0m\u001b[0m\n\u001b[0m\u001b[1;32m    522\u001b[0m \u001b[0;34m\u001b[0m\u001b[0m\n\u001b[1;32m    523\u001b[0m     \u001b[0;32mdef\u001b[0m \u001b[0mupdate_cache\u001b[0m\u001b[0;34m(\u001b[0m\u001b[0mself\u001b[0m\u001b[0;34m)\u001b[0m\u001b[0;34m:\u001b[0m\u001b[0;34m\u001b[0m\u001b[0;34m\u001b[0m\u001b[0m\n",
      "\u001b[0;32m/usr/local/anaconda3/envs/PH_miner/lib/python3.7/site-packages/comet_ml/api.py\u001b[0m in \u001b[0;36mupdate_cache\u001b[0;34m(self)\u001b[0m\n\u001b[1;32m    525\u001b[0m         \u001b[0mRefresh\u001b[0m \u001b[0mthe\u001b[0m \u001b[0mcache\u001b[0m \u001b[0;32mfrom\u001b[0m \u001b[0mlive\u001b[0m \u001b[0mserver\u001b[0m \u001b[0mdata\u001b[0m\u001b[0;34m.\u001b[0m\u001b[0;34m\u001b[0m\u001b[0;34m\u001b[0m\u001b[0m\n\u001b[1;32m    526\u001b[0m         \"\"\"\n\u001b[0;32m--> 527\u001b[0;31m         \u001b[0mself\u001b[0m\u001b[0;34m.\u001b[0m\u001b[0m_rebuild_cache\u001b[0m\u001b[0;34m(\u001b[0m\u001b[0;34m)\u001b[0m\u001b[0;34m\u001b[0m\u001b[0;34m\u001b[0m\u001b[0m\n\u001b[0m\u001b[1;32m    528\u001b[0m         \u001b[0mself\u001b[0m\u001b[0;34m.\u001b[0m\u001b[0mworkspaces\u001b[0m \u001b[0;34m=\u001b[0m \u001b[0mWorkspaces\u001b[0m\u001b[0;34m(\u001b[0m\u001b[0mself\u001b[0m\u001b[0;34m)\u001b[0m\u001b[0;34m\u001b[0m\u001b[0;34m\u001b[0m\u001b[0m\n\u001b[1;32m    529\u001b[0m \u001b[0;34m\u001b[0m\u001b[0m\n",
      "\u001b[0;32m/usr/local/anaconda3/envs/PH_miner/lib/python3.7/site-packages/comet_ml/api.py\u001b[0m in \u001b[0;36m_rebuild_cache\u001b[0;34m(self)\u001b[0m\n\u001b[1;32m    530\u001b[0m     \u001b[0;32mdef\u001b[0m \u001b[0m_rebuild_cache\u001b[0m\u001b[0;34m(\u001b[0m\u001b[0mself\u001b[0m\u001b[0;34m)\u001b[0m\u001b[0;34m:\u001b[0m\u001b[0;34m\u001b[0m\u001b[0;34m\u001b[0m\u001b[0m\n\u001b[1;32m    531\u001b[0m         self._CACHE = {\n\u001b[0;32m--> 532\u001b[0;31m             \u001b[0mw\u001b[0m\u001b[0;34m:\u001b[0m \u001b[0;34m{\u001b[0m\u001b[0;34m\"projects\"\u001b[0m\u001b[0;34m:\u001b[0m \u001b[0;34m{\u001b[0m\u001b[0;34m}\u001b[0m\u001b[0;34m,\u001b[0m \u001b[0;34m\"is_owner\"\u001b[0m\u001b[0;34m:\u001b[0m \u001b[0;32mTrue\u001b[0m\u001b[0;34m}\u001b[0m \u001b[0;32mfor\u001b[0m \u001b[0mw\u001b[0m \u001b[0;32min\u001b[0m \u001b[0mself\u001b[0m\u001b[0;34m.\u001b[0m\u001b[0mget_workspaces\u001b[0m\u001b[0;34m(\u001b[0m\u001b[0;34m)\u001b[0m\u001b[0;34m\u001b[0m\u001b[0;34m\u001b[0m\u001b[0m\n\u001b[0m\u001b[1;32m    533\u001b[0m         }\n\u001b[1;32m    534\u001b[0m \u001b[0;34m\u001b[0m\u001b[0m\n",
      "\u001b[0;32m/usr/local/anaconda3/envs/PH_miner/lib/python3.7/site-packages/comet_ml/api.py\u001b[0m in \u001b[0;36mget_workspaces\u001b[0;34m(self)\u001b[0m\n\u001b[1;32m    753\u001b[0m         \"\"\"\n\u001b[1;32m    754\u001b[0m         \u001b[0mparams\u001b[0m \u001b[0;34m=\u001b[0m \u001b[0;34m{\u001b[0m\u001b[0;34m}\u001b[0m\u001b[0;34m\u001b[0m\u001b[0;34m\u001b[0m\u001b[0m\n\u001b[0;32m--> 755\u001b[0;31m         \u001b[0mresults\u001b[0m \u001b[0;34m=\u001b[0m \u001b[0mself\u001b[0m\u001b[0;34m.\u001b[0m\u001b[0mget_request\u001b[0m\u001b[0;34m(\u001b[0m\u001b[0;34m\"workspaces\"\u001b[0m\u001b[0;34m,\u001b[0m \u001b[0mparams\u001b[0m\u001b[0;34m)\u001b[0m\u001b[0;34m\u001b[0m\u001b[0;34m\u001b[0m\u001b[0m\n\u001b[0m\u001b[1;32m    756\u001b[0m         \u001b[0;32mreturn\u001b[0m \u001b[0mresults\u001b[0m\u001b[0;34m[\u001b[0m\u001b[0;34m\"workspaces\"\u001b[0m\u001b[0;34m]\u001b[0m\u001b[0;34m\u001b[0m\u001b[0;34m\u001b[0m\u001b[0m\n\u001b[1;32m    757\u001b[0m \u001b[0;34m\u001b[0m\u001b[0m\n",
      "\u001b[0;32m/usr/local/anaconda3/envs/PH_miner/lib/python3.7/site-packages/comet_ml/api.py\u001b[0m in \u001b[0;36mget_request\u001b[0;34m(self, end_point, params, return_type)\u001b[0m\n\u001b[1;32m    699\u001b[0m                 \u001b[0;32mraise\u001b[0m\u001b[0;34m\u001b[0m\u001b[0;34m\u001b[0m\u001b[0m\n\u001b[1;32m    700\u001b[0m         \u001b[0;32mif\u001b[0m \u001b[0mraise_exception\u001b[0m\u001b[0;34m:\u001b[0m\u001b[0;34m\u001b[0m\u001b[0;34m\u001b[0m\u001b[0m\n\u001b[0;32m--> 701\u001b[0;31m             \u001b[0;32mraise\u001b[0m \u001b[0mraise_exception\u001b[0m\u001b[0;34m\u001b[0m\u001b[0;34m\u001b[0m\u001b[0m\n\u001b[0m\u001b[1;32m    702\u001b[0m         \u001b[0;31m# Return data based on return_type:\u001b[0m\u001b[0;34m\u001b[0m\u001b[0;34m\u001b[0m\u001b[0;34m\u001b[0m\u001b[0m\n\u001b[1;32m    703\u001b[0m         \u001b[0;32mif\u001b[0m \u001b[0mreturn_type\u001b[0m \u001b[0;34m==\u001b[0m \u001b[0;34m\"json\"\u001b[0m\u001b[0;34m:\u001b[0m\u001b[0;34m\u001b[0m\u001b[0;34m\u001b[0m\u001b[0m\n",
      "\u001b[0;31mValueError\u001b[0m: Invalid COMET_REST_API_KEY"
     ],
     "ename": "ValueError",
     "evalue": "Invalid COMET_REST_API_KEY",
     "output_type": "error"
    }
   ],
   "source": [
    "from comet_ml import API\n",
    "import comet_ml\n",
    "\n",
    "import matplotlib.pyplot as plt\n",
    "%matplotlib inline\n",
    "\n",
    "comet_api = API()\n",
    "exp = comet_api.get(\"bateman\", \"producthint\", '96460244cb694accbf0d50a08516bd21')\n"
   ],
   "metadata": {
    "collapsed": false,
    "pycharm": {
     "name": "#%%\n",
     "is_executing": false
    }
   }
  }
 ],
 "metadata": {
  "kernelspec": {
   "display_name": "Python 3",
   "language": "python",
   "name": "python3"
  },
  "language_info": {
   "codemirror_mode": {
    "name": "ipython",
    "version": 3
   },
   "file_extension": ".py",
   "mimetype": "text/x-python",
   "name": "python",
   "nbconvert_exporter": "python",
   "pygments_lexer": "ipython3",
   "version": "3.7.3"
  },
  "pycharm": {
   "stem_cell": {
    "cell_type": "raw",
    "source": [],
    "metadata": {
     "collapsed": false
    }
   }
  }
 },
 "nbformat": 4,
 "nbformat_minor": 1
}