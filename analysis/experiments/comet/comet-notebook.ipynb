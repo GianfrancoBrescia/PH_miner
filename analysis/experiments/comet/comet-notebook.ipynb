{
 "cells": [
  {
   "cell_type": "markdown",
   "metadata": {
    "collapsed": true,
    "pycharm": {
     "name": "#%% md\n"
    }
   },
   "source": [
    "# Product 'Hint' - Empirical Guidelines for Effective Social Product Launching\n",
    "\n",
    "## Research Goal\n",
    "\n",
    "The main goal of this research is to understand what factors drive to successful app \n",
    "launching on Product Hunt (PH), where *success* is defined as whether a product is \n",
    "featured among the daily popular on the PH homepage. Popular app are upvoted by \n",
    "community members.\n",
    "\n",
    "Products are discovered by a 'hunter' on PH, a community members who scavenge the Internet\n",
    "seeking new applications. Sometimes the hunter is also one of the app 'makers' who want\n",
    "to launch and advertise a new product -- as being featured among the PH's daily popular\n",
    "represent a considerable boost in visibility. \n",
    "\n",
    "PH has compiled a set of publicly available [guidelines](?) for successful launches, yet we do \n",
    "not know whether these rules are implemented by community members and, in case, if they work.\n",
    "In our previous work on Stack Overflow (SO), we empirically verified that some of the \n",
    "recommended guidelines provided by SO do not actually work and, when they do, they are \n",
    "seldom [F. Calefato et al. “How to Ask for Technical Help?\n",
    " Evidence-based Guidelines for Writing Questions on Stack Overflow.” IST 2018, 94:186-207, \n",
    " DOI: 10.1016/j.infsof.2017.10.009](https://arxiv.org/ftp/arxiv/papers/1710/1710.04692.pdf).\n",
    "\n",
    "## Research Question\n",
    "\n",
    "The broad research question that this experiment investigates is the following:\n",
    "***What factors are predictive of the number of upvotes on PH?***\n",
    "\n",
    "\n",
    "## Model development\n",
    "\n",
    "### Dependent variable\n",
    "\n",
    "*Score*: a positive integer, the number of upvotes received by community members who appreciate\n",
    "the application.\n",
    "\n",
    "Because the score is left-censored (bounded by zero) counter, the most suitable approach \n",
    "appears to build a count data model, as these models have a dependent variable that is \n",
    "counts (i.e., 0, 1, 2, 3, and so on).\n",
    "\n",
    "\n",
    "### Predictive factors (independent vars)\n",
    "\n",
    "Regarding the factors, we are considering\n",
    "* *Reputation*, of both the hunter and the maker, if different\n",
    "* *Time*, when the product is hunted/launched (posted, from now on); as the homepage is \n",
    "refreshed at 12:01am PST on a 24h-cycle, the recommended best practice is to post at \n",
    "9:00 am PST so that there is enough time in the day for people to discover and discuss\n",
    "an application. Also, weekends tend to be slower, so recommended days are Mondays and \n",
    "Tuesdays. \n",
    "* *Presentation quality*, which is achieved in different ways such as using a short, catchy \n",
    "tagline, using animated GIFs, YouTube videos, and emoji. Also the length of textual description \n",
    "may have an effect, as guidelines recommend to be specific. \n",
    "* *Sentiment (or affect)*, as in the positive, negative, neutral orientation conveyed by the textual\n",
    "description of the tool, which may or may not affect the number of upvotes received (i.e., score).\n",
    "* *Nurturing*, or whether the maker engages in the discussion with the other members who \n",
    "leave comments and reviews. A participating and communicative maker may foster a more favorable \n",
    "judgment for the tool and, hence, attract more upvotes.\n",
    "\n",
    "These points should be rewritten in form of testable hypotheses, one or more per factor.\n",
    "\n",
    "## Experiment report\n",
    "\n",
    "%%writefile .comet.config\n",
    "[comet]\n",
    "api_key=YOUR-API-KEY\n",
    "rest_api_key=YOUR-REST-API-KEY\n"
   ]
  },
  {
   "cell_type": "code",
   "execution_count": 1,
   "metadata": {
    "pycharm": {
     "is_executing": false,
     "name": "#%%\n"
    }
   },
   "outputs": [
    {
     "name": "stdout",
     "text": [
      "[{'metricName': 'accuracy', 'metricValue': '0.888', 'timestamp': 1562318021148, 'step': None, 'runContext': None, 'offset': 33}, {'metricName': 'AUC', 'metricValue': '0.8468646864686469', 'timestamp': 1562318021148, 'step': None, 'runContext': None, 'offset': 32}, {'metricName': 'recall', 'metricValue': '1.0', 'timestamp': 1562318021149, 'step': None, 'runContext': None, 'offset': 37}, {'metricName': 'precision', 'metricValue': '0.886', 'timestamp': 1562318021149, 'step': None, 'runContext': None, 'offset': 36}, {'metricName': 'f1', 'metricValue': '0.94', 'timestamp': 1562318021149, 'step': None, 'runContext': None, 'offset': 35}]\n"
     ],
     "output_type": "stream"
    },
    {
     "data": {
      "text/plain": "<IPython.lib.display.IFrame at 0x11442fba8>",
      "text/html": "\n        <iframe\n            width=\"100%\"\n            height=\"800px\"\n            src=\"https://www.comet.ml/bateman/producthint/96460244cb694accbf0d50a08516bd21\"\n            frameborder=\"0\"\n            allowfullscreen\n        ></iframe>\n        "
     },
     "metadata": {},
     "output_type": "display_data"
    }
   ],
   "source": [
    "from comet_ml import API\n",
    "import comet_ml\n",
    "\n",
    "import matplotlib.pyplot as plt\n",
    "%matplotlib inline\n",
    "\n",
    "comet_api = API()\n",
    "exp = comet_api.get(\"bateman\", \"producthint\", '96460244cb694accbf0d50a08516bd21')\n",
    "\n",
    "print(exp.metrics_raw)\n"
   ]
  },
  {
   "cell_type": "markdown",
   "source": [
    "## Embedded experiment page from Comet.ml website"
   ],
   "metadata": {
    "collapsed": false
   }
  },
  {
   "cell_type": "code",
   "execution_count": null,
   "outputs": [],
   "source": [
    "\n",
    "exp.display()"
   ],
   "metadata": {
    "collapsed": false,
    "pycharm": {
     "name": "#%%\n"
    }
   }
  }
 ],
 "metadata": {
  "kernelspec": {
   "display_name": "Python 3",
   "language": "python",
   "name": "python3"
  },
  "language_info": {
   "codemirror_mode": {
    "name": "ipython",
    "version": 3
   },
   "file_extension": ".py",
   "mimetype": "text/x-python",
   "name": "python",
   "nbconvert_exporter": "python",
   "pygments_lexer": "ipython3",
   "version": "3.7.3"
  },
  "pycharm": {
   "stem_cell": {
    "cell_type": "raw",
    "source": [],
    "metadata": {
     "collapsed": false
    }
   }
  }
 },
 "nbformat": 4,
 "nbformat_minor": 1
}