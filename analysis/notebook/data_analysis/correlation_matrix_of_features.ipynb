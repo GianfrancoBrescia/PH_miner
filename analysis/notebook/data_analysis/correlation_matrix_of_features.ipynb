{
 "cells": [
  {
   "cell_type": "code",
   "execution_count": 1,
   "metadata": {},
   "outputs": [],
   "source": [
    "import os\n",
    "import pandas as pd\n",
    "import seaborn as sn\n",
    "import matplotlib.pyplot as plt\n",
    "%matplotlib inline"
   ]
  },
  {
   "cell_type": "code",
   "execution_count": 2,
   "metadata": {},
   "outputs": [
    {
     "data": {
      "text/html": [
       "<div>\n",
       "<style scoped>\n",
       "    .dataframe tbody tr th:only-of-type {\n",
       "        vertical-align: middle;\n",
       "    }\n",
       "\n",
       "    .dataframe tbody tr th {\n",
       "        vertical-align: top;\n",
       "    }\n",
       "\n",
       "    .dataframe thead th {\n",
       "        text-align: right;\n",
       "    }\n",
       "</style>\n",
       "<table border=\"1\" class=\"dataframe\">\n",
       "  <thead>\n",
       "    <tr style=\"text-align: right;\">\n",
       "      <th></th>\n",
       "      <th>version</th>\n",
       "      <th>tags_number</th>\n",
       "      <th>score</th>\n",
       "      <th>number_of_gif</th>\n",
       "      <th>maker_comment_ratio</th>\n",
       "      <th>thread_length</th>\n",
       "    </tr>\n",
       "  </thead>\n",
       "  <tbody>\n",
       "    <tr>\n",
       "      <th>0</th>\n",
       "      <td>1.0</td>\n",
       "      <td>4</td>\n",
       "      <td>2771</td>\n",
       "      <td>0</td>\n",
       "      <td>0.0</td>\n",
       "      <td>21</td>\n",
       "    </tr>\n",
       "    <tr>\n",
       "      <th>1</th>\n",
       "      <td>1.0</td>\n",
       "      <td>6</td>\n",
       "      <td>313</td>\n",
       "      <td>0</td>\n",
       "      <td>0.0</td>\n",
       "      <td>3</td>\n",
       "    </tr>\n",
       "    <tr>\n",
       "      <th>2</th>\n",
       "      <td>1.0</td>\n",
       "      <td>2</td>\n",
       "      <td>442</td>\n",
       "      <td>0</td>\n",
       "      <td>0.0</td>\n",
       "      <td>1</td>\n",
       "    </tr>\n",
       "    <tr>\n",
       "      <th>3</th>\n",
       "      <td>1.0</td>\n",
       "      <td>3</td>\n",
       "      <td>208</td>\n",
       "      <td>0</td>\n",
       "      <td>0.0</td>\n",
       "      <td>3</td>\n",
       "    </tr>\n",
       "    <tr>\n",
       "      <th>4</th>\n",
       "      <td>1.0</td>\n",
       "      <td>4</td>\n",
       "      <td>166</td>\n",
       "      <td>1</td>\n",
       "      <td>0.0</td>\n",
       "      <td>8</td>\n",
       "    </tr>\n",
       "  </tbody>\n",
       "</table>\n",
       "</div>"
      ],
      "text/plain": [
       "   version  tags_number  score  number_of_gif  maker_comment_ratio  \\\n",
       "0      1.0            4   2771              0                  0.0   \n",
       "1      1.0            6    313              0                  0.0   \n",
       "2      1.0            2    442              0                  0.0   \n",
       "3      1.0            3    208              0                  0.0   \n",
       "4      1.0            4    166              1                  0.0   \n",
       "\n",
       "   thread_length  \n",
       "0             21  \n",
       "1              3  \n",
       "2              1  \n",
       "3              3  \n",
       "4              8  "
      ]
     },
     "execution_count": 2,
     "metadata": {},
     "output_type": "execute_result"
    }
   ],
   "source": [
    "csv_directory = os.getcwd()[:-22] + 'dataset\\\\'\n",
    "csv_file = 'features.csv'\n",
    "csv_file_path = os.path.join(csv_directory, csv_file)\n",
    "dataset = pd.read_csv(csv_file_path, delimiter=';', usecols=['version', 'tags_number', 'score', 'number_of_gif', \n",
    "                                                             'maker_comment_ratio', 'thread_length'])\n",
    "dataset.head()"
   ]
  },
  {
   "cell_type": "code",
   "execution_count": 3,
   "metadata": {},
   "outputs": [
    {
     "data": {
      "text/html": [
       "<div>\n",
       "<style scoped>\n",
       "    .dataframe tbody tr th:only-of-type {\n",
       "        vertical-align: middle;\n",
       "    }\n",
       "\n",
       "    .dataframe tbody tr th {\n",
       "        vertical-align: top;\n",
       "    }\n",
       "\n",
       "    .dataframe thead th {\n",
       "        text-align: right;\n",
       "    }\n",
       "</style>\n",
       "<table border=\"1\" class=\"dataframe\">\n",
       "  <thead>\n",
       "    <tr style=\"text-align: right;\">\n",
       "      <th></th>\n",
       "      <th>version</th>\n",
       "      <th>tags_number</th>\n",
       "      <th>score</th>\n",
       "      <th>number_of_gif</th>\n",
       "      <th>maker_comment_ratio</th>\n",
       "      <th>thread_length</th>\n",
       "    </tr>\n",
       "  </thead>\n",
       "  <tbody>\n",
       "    <tr>\n",
       "      <th>version</th>\n",
       "      <td>1.000000</td>\n",
       "      <td>0.008285</td>\n",
       "      <td>0.054630</td>\n",
       "      <td>0.032613</td>\n",
       "      <td>-0.016454</td>\n",
       "      <td>0.052576</td>\n",
       "    </tr>\n",
       "    <tr>\n",
       "      <th>tags_number</th>\n",
       "      <td>0.008285</td>\n",
       "      <td>1.000000</td>\n",
       "      <td>0.077091</td>\n",
       "      <td>0.084374</td>\n",
       "      <td>0.033895</td>\n",
       "      <td>0.054593</td>\n",
       "    </tr>\n",
       "    <tr>\n",
       "      <th>score</th>\n",
       "      <td>0.054630</td>\n",
       "      <td>0.077091</td>\n",
       "      <td>1.000000</td>\n",
       "      <td>0.159901</td>\n",
       "      <td>-0.105721</td>\n",
       "      <td>0.718332</td>\n",
       "    </tr>\n",
       "    <tr>\n",
       "      <th>number_of_gif</th>\n",
       "      <td>0.032613</td>\n",
       "      <td>0.084374</td>\n",
       "      <td>0.159901</td>\n",
       "      <td>1.000000</td>\n",
       "      <td>0.032893</td>\n",
       "      <td>0.203119</td>\n",
       "    </tr>\n",
       "    <tr>\n",
       "      <th>maker_comment_ratio</th>\n",
       "      <td>-0.016454</td>\n",
       "      <td>0.033895</td>\n",
       "      <td>-0.105721</td>\n",
       "      <td>0.032893</td>\n",
       "      <td>1.000000</td>\n",
       "      <td>-0.027293</td>\n",
       "    </tr>\n",
       "    <tr>\n",
       "      <th>thread_length</th>\n",
       "      <td>0.052576</td>\n",
       "      <td>0.054593</td>\n",
       "      <td>0.718332</td>\n",
       "      <td>0.203119</td>\n",
       "      <td>-0.027293</td>\n",
       "      <td>1.000000</td>\n",
       "    </tr>\n",
       "  </tbody>\n",
       "</table>\n",
       "</div>"
      ],
      "text/plain": [
       "                      version  tags_number     score  number_of_gif  \\\n",
       "version              1.000000     0.008285  0.054630       0.032613   \n",
       "tags_number          0.008285     1.000000  0.077091       0.084374   \n",
       "score                0.054630     0.077091  1.000000       0.159901   \n",
       "number_of_gif        0.032613     0.084374  0.159901       1.000000   \n",
       "maker_comment_ratio -0.016454     0.033895 -0.105721       0.032893   \n",
       "thread_length        0.052576     0.054593  0.718332       0.203119   \n",
       "\n",
       "                     maker_comment_ratio  thread_length  \n",
       "version                        -0.016454       0.052576  \n",
       "tags_number                     0.033895       0.054593  \n",
       "score                          -0.105721       0.718332  \n",
       "number_of_gif                   0.032893       0.203119  \n",
       "maker_comment_ratio             1.000000      -0.027293  \n",
       "thread_length                  -0.027293       1.000000  "
      ]
     },
     "execution_count": 3,
     "metadata": {},
     "output_type": "execute_result"
    }
   ],
   "source": [
    "correlation_matrix = dataset.corr(method='pearson')\n",
    "correlation_matrix"
   ]
  },
  {
   "cell_type": "code",
   "execution_count": 4,
   "metadata": {},
   "outputs": [
    {
     "data": {
      "image/png": "[encoded data removed]",
      "text/plain": [
       "<Figure size 720x504 with 2 Axes>"
      ]
     },
     "metadata": {
      "needs_background": "light"
     },
     "output_type": "display_data"
    }
   ],
   "source": [
    "plt.figure(figsize=(10,7))\n",
    "sn.heatmap(correlation_matrix, annot=True)\n",
    "plt.savefig('correlation_matrix_of_features.png')"
   ]
  },
  {
   "cell_type": "code",
   "execution_count": null,
   "metadata": {},
   "outputs": [],
   "source": []
  }
 ],
 "metadata": {
  "kernelspec": {
   "display_name": "Python 3",
   "language": "python",
   "name": "python3"
  },
  "language_info": {
   "codemirror_mode": {
    "name": "ipython",
    "version": 3
   },
   "file_extension": ".py",
   "mimetype": "text/x-python",
   "name": "python",
   "nbconvert_exporter": "python",
   "pygments_lexer": "ipython3",
   "version": "3.7.3"
  }
 },
 "nbformat": 4,
 "nbformat_minor": 2
}
