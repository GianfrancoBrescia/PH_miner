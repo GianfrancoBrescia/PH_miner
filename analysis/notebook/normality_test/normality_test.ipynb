{
 "cells": [
  {
   "cell_type": "code",
   "execution_count": 1,
   "metadata": {},
   "outputs": [],
   "source": [
    "import os\n",
    "import pandas as pd\n",
    "import numpy as np\n",
    "from statsmodels.graphics.gofplots import qqplot\n",
    "from scipy.stats import shapiro\n",
    "from matplotlib import pyplot as plt\n",
    "%matplotlib inline"
   ]
  },
  {
   "cell_type": "code",
   "execution_count": 2,
   "metadata": {},
   "outputs": [
    {
     "data": {
      "text/html": [
       "<div>\n",
       "<style scoped>\n",
       "    .dataframe tbody tr th:only-of-type {\n",
       "        vertical-align: middle;\n",
       "    }\n",
       "\n",
       "    .dataframe tbody tr th {\n",
       "        vertical-align: top;\n",
       "    }\n",
       "\n",
       "    .dataframe thead th {\n",
       "        text-align: right;\n",
       "    }\n",
       "</style>\n",
       "<table border=\"1\" class=\"dataframe\">\n",
       "  <thead>\n",
       "    <tr style=\"text-align: right;\">\n",
       "      <th></th>\n",
       "      <th>version</th>\n",
       "      <th>tags_number</th>\n",
       "      <th>is_featured</th>\n",
       "      <th>score</th>\n",
       "      <th>is_best_time_to_launch</th>\n",
       "      <th>is_best_day_to_launch</th>\n",
       "      <th>is_weekend</th>\n",
       "      <th>discretized_positive_description_score</th>\n",
       "      <th>discretized_negative_description_score</th>\n",
       "      <th>text_description_length</th>\n",
       "      <th>sentence_length_in_the_description</th>\n",
       "      <th>bullet_points_explicit_features</th>\n",
       "      <th>emoji_in_description</th>\n",
       "      <th>tagline_length</th>\n",
       "      <th>emoji_in_tagline</th>\n",
       "      <th>are_there_video</th>\n",
       "      <th>are_there_tweetable_images</th>\n",
       "      <th>are_there_gif_images</th>\n",
       "      <th>number_of_gif</th>\n",
       "      <th>offers</th>\n",
       "      <th>promo_discount_codes</th>\n",
       "      <th>are_there_questions</th>\n",
       "      <th>hunter_has_twitter</th>\n",
       "      <th>hunter_has_website</th>\n",
       "      <th>hunter_followers</th>\n",
       "      <th>hunter_apps_made</th>\n",
       "      <th>hunter_follows_up_on_comments</th>\n",
       "      <th>maker_has_twitter</th>\n",
       "      <th>maker_has_website</th>\n",
       "      <th>maker_followers</th>\n",
       "      <th>maker_started_comment_thread</th>\n",
       "      <th>maker_comment_ratio</th>\n",
       "      <th>thread_length</th>\n",
       "      <th>hunter_is_maker</th>\n",
       "      <th>discretized_maker_positive_comment_score</th>\n",
       "      <th>discretized_maker_negative_comment_score</th>\n",
       "      <th>discretized_others_positive_comment_score</th>\n",
       "      <th>discretized_others_negative_comment_score</th>\n",
       "      <th>topic</th>\n",
       "    </tr>\n",
       "  </thead>\n",
       "  <tbody>\n",
       "    <tr>\n",
       "      <th>0</th>\n",
       "      <td>1.0</td>\n",
       "      <td>4</td>\n",
       "      <td>Yes</td>\n",
       "      <td>2771</td>\n",
       "      <td>Yes</td>\n",
       "      <td>Yes</td>\n",
       "      <td>No</td>\n",
       "      <td>True</td>\n",
       "      <td>False</td>\n",
       "      <td>Short</td>\n",
       "      <td>Short</td>\n",
       "      <td>No</td>\n",
       "      <td>No</td>\n",
       "      <td>Long</td>\n",
       "      <td>No</td>\n",
       "      <td>No</td>\n",
       "      <td>Yes</td>\n",
       "      <td>No</td>\n",
       "      <td>0</td>\n",
       "      <td>No</td>\n",
       "      <td>No</td>\n",
       "      <td>Yes</td>\n",
       "      <td>Yes</td>\n",
       "      <td>Yes</td>\n",
       "      <td>Low</td>\n",
       "      <td>Medium</td>\n",
       "      <td>Yes</td>\n",
       "      <td>Yes</td>\n",
       "      <td>Yes</td>\n",
       "      <td>Low</td>\n",
       "      <td>No</td>\n",
       "      <td>0.0</td>\n",
       "      <td>21</td>\n",
       "      <td>No</td>\n",
       "      <td>False</td>\n",
       "      <td>False</td>\n",
       "      <td>True</td>\n",
       "      <td>True</td>\n",
       "      <td>web development</td>\n",
       "    </tr>\n",
       "    <tr>\n",
       "      <th>1</th>\n",
       "      <td>1.0</td>\n",
       "      <td>6</td>\n",
       "      <td>Yes</td>\n",
       "      <td>313</td>\n",
       "      <td>No</td>\n",
       "      <td>No</td>\n",
       "      <td>No</td>\n",
       "      <td>True</td>\n",
       "      <td>False</td>\n",
       "      <td>Medium</td>\n",
       "      <td>Medium</td>\n",
       "      <td>No</td>\n",
       "      <td>No</td>\n",
       "      <td>Long</td>\n",
       "      <td>No</td>\n",
       "      <td>No</td>\n",
       "      <td>No</td>\n",
       "      <td>No</td>\n",
       "      <td>0</td>\n",
       "      <td>No</td>\n",
       "      <td>No</td>\n",
       "      <td>No</td>\n",
       "      <td>Yes</td>\n",
       "      <td>Yes</td>\n",
       "      <td>Low</td>\n",
       "      <td>Low</td>\n",
       "      <td>Yes</td>\n",
       "      <td>Yes</td>\n",
       "      <td>Yes</td>\n",
       "      <td>Low</td>\n",
       "      <td>No</td>\n",
       "      <td>0.0</td>\n",
       "      <td>3</td>\n",
       "      <td>No</td>\n",
       "      <td>False</td>\n",
       "      <td>False</td>\n",
       "      <td>True</td>\n",
       "      <td>False</td>\n",
       "      <td>web development</td>\n",
       "    </tr>\n",
       "    <tr>\n",
       "      <th>2</th>\n",
       "      <td>1.0</td>\n",
       "      <td>2</td>\n",
       "      <td>Yes</td>\n",
       "      <td>442</td>\n",
       "      <td>Yes</td>\n",
       "      <td>No</td>\n",
       "      <td>No</td>\n",
       "      <td>True</td>\n",
       "      <td>True</td>\n",
       "      <td>Long</td>\n",
       "      <td>Short</td>\n",
       "      <td>No</td>\n",
       "      <td>No</td>\n",
       "      <td>Long</td>\n",
       "      <td>No</td>\n",
       "      <td>No</td>\n",
       "      <td>No</td>\n",
       "      <td>No</td>\n",
       "      <td>0</td>\n",
       "      <td>No</td>\n",
       "      <td>No</td>\n",
       "      <td>No</td>\n",
       "      <td>Yes</td>\n",
       "      <td>No</td>\n",
       "      <td>High</td>\n",
       "      <td>High</td>\n",
       "      <td>Yes</td>\n",
       "      <td>Yes</td>\n",
       "      <td>Yes</td>\n",
       "      <td>Low</td>\n",
       "      <td>No</td>\n",
       "      <td>0.0</td>\n",
       "      <td>1</td>\n",
       "      <td>No</td>\n",
       "      <td>False</td>\n",
       "      <td>False</td>\n",
       "      <td>True</td>\n",
       "      <td>False</td>\n",
       "      <td>web development</td>\n",
       "    </tr>\n",
       "    <tr>\n",
       "      <th>3</th>\n",
       "      <td>1.0</td>\n",
       "      <td>3</td>\n",
       "      <td>Yes</td>\n",
       "      <td>208</td>\n",
       "      <td>No</td>\n",
       "      <td>No</td>\n",
       "      <td>Yes</td>\n",
       "      <td>True</td>\n",
       "      <td>False</td>\n",
       "      <td>Long</td>\n",
       "      <td>Short</td>\n",
       "      <td>No</td>\n",
       "      <td>No</td>\n",
       "      <td>Long</td>\n",
       "      <td>No</td>\n",
       "      <td>Yes</td>\n",
       "      <td>No</td>\n",
       "      <td>No</td>\n",
       "      <td>0</td>\n",
       "      <td>No</td>\n",
       "      <td>No</td>\n",
       "      <td>No</td>\n",
       "      <td>No</td>\n",
       "      <td>Yes</td>\n",
       "      <td>Low</td>\n",
       "      <td>Low</td>\n",
       "      <td>No</td>\n",
       "      <td>No</td>\n",
       "      <td>Yes</td>\n",
       "      <td>Low</td>\n",
       "      <td>No</td>\n",
       "      <td>0.0</td>\n",
       "      <td>3</td>\n",
       "      <td>Yes</td>\n",
       "      <td>False</td>\n",
       "      <td>False</td>\n",
       "      <td>False</td>\n",
       "      <td>False</td>\n",
       "      <td>community</td>\n",
       "    </tr>\n",
       "    <tr>\n",
       "      <th>4</th>\n",
       "      <td>1.0</td>\n",
       "      <td>4</td>\n",
       "      <td>Yes</td>\n",
       "      <td>166</td>\n",
       "      <td>No</td>\n",
       "      <td>No</td>\n",
       "      <td>No</td>\n",
       "      <td>False</td>\n",
       "      <td>True</td>\n",
       "      <td>Medium</td>\n",
       "      <td>Short</td>\n",
       "      <td>No</td>\n",
       "      <td>No</td>\n",
       "      <td>Medium</td>\n",
       "      <td>No</td>\n",
       "      <td>No</td>\n",
       "      <td>No</td>\n",
       "      <td>Yes</td>\n",
       "      <td>1</td>\n",
       "      <td>No</td>\n",
       "      <td>No</td>\n",
       "      <td>No</td>\n",
       "      <td>Yes</td>\n",
       "      <td>No</td>\n",
       "      <td>Low</td>\n",
       "      <td>Low</td>\n",
       "      <td>No</td>\n",
       "      <td>Yes</td>\n",
       "      <td>Yes</td>\n",
       "      <td>Low</td>\n",
       "      <td>No</td>\n",
       "      <td>0.0</td>\n",
       "      <td>8</td>\n",
       "      <td>No</td>\n",
       "      <td>True</td>\n",
       "      <td>True</td>\n",
       "      <td>True</td>\n",
       "      <td>True</td>\n",
       "      <td>community</td>\n",
       "    </tr>\n",
       "  </tbody>\n",
       "</table>\n",
       "</div>"
      ],
      "text/plain": [
       "   version  tags_number is_featured  score is_best_time_to_launch  \\\n",
       "0      1.0            4         Yes   2771                    Yes   \n",
       "1      1.0            6         Yes    313                     No   \n",
       "2      1.0            2         Yes    442                    Yes   \n",
       "3      1.0            3         Yes    208                     No   \n",
       "4      1.0            4         Yes    166                     No   \n",
       "\n",
       "  is_best_day_to_launch is_weekend  discretized_positive_description_score  \\\n",
       "0                   Yes         No                                    True   \n",
       "1                    No         No                                    True   \n",
       "2                    No         No                                    True   \n",
       "3                    No        Yes                                    True   \n",
       "4                    No         No                                   False   \n",
       "\n",
       "   discretized_negative_description_score text_description_length  \\\n",
       "0                                   False                   Short   \n",
       "1                                   False                  Medium   \n",
       "2                                    True                    Long   \n",
       "3                                   False                    Long   \n",
       "4                                    True                  Medium   \n",
       "\n",
       "  sentence_length_in_the_description bullet_points_explicit_features  \\\n",
       "0                              Short                              No   \n",
       "1                             Medium                              No   \n",
       "2                              Short                              No   \n",
       "3                              Short                              No   \n",
       "4                              Short                              No   \n",
       "\n",
       "  emoji_in_description tagline_length emoji_in_tagline are_there_video  \\\n",
       "0                   No           Long               No              No   \n",
       "1                   No           Long               No              No   \n",
       "2                   No           Long               No              No   \n",
       "3                   No           Long               No             Yes   \n",
       "4                   No         Medium               No              No   \n",
       "\n",
       "  are_there_tweetable_images are_there_gif_images  number_of_gif offers  \\\n",
       "0                        Yes                   No              0     No   \n",
       "1                         No                   No              0     No   \n",
       "2                         No                   No              0     No   \n",
       "3                         No                   No              0     No   \n",
       "4                         No                  Yes              1     No   \n",
       "\n",
       "  promo_discount_codes are_there_questions hunter_has_twitter  \\\n",
       "0                   No                 Yes                Yes   \n",
       "1                   No                  No                Yes   \n",
       "2                   No                  No                Yes   \n",
       "3                   No                  No                 No   \n",
       "4                   No                  No                Yes   \n",
       "\n",
       "  hunter_has_website hunter_followers hunter_apps_made  \\\n",
       "0                Yes              Low           Medium   \n",
       "1                Yes              Low              Low   \n",
       "2                 No             High             High   \n",
       "3                Yes              Low              Low   \n",
       "4                 No              Low              Low   \n",
       "\n",
       "  hunter_follows_up_on_comments maker_has_twitter maker_has_website  \\\n",
       "0                           Yes               Yes               Yes   \n",
       "1                           Yes               Yes               Yes   \n",
       "2                           Yes               Yes               Yes   \n",
       "3                            No                No               Yes   \n",
       "4                            No               Yes               Yes   \n",
       "\n",
       "  maker_followers maker_started_comment_thread  maker_comment_ratio  \\\n",
       "0             Low                           No                  0.0   \n",
       "1             Low                           No                  0.0   \n",
       "2             Low                           No                  0.0   \n",
       "3             Low                           No                  0.0   \n",
       "4             Low                           No                  0.0   \n",
       "\n",
       "   thread_length hunter_is_maker  discretized_maker_positive_comment_score  \\\n",
       "0             21              No                                     False   \n",
       "1              3              No                                     False   \n",
       "2              1              No                                     False   \n",
       "3              3             Yes                                     False   \n",
       "4              8              No                                      True   \n",
       "\n",
       "   discretized_maker_negative_comment_score  \\\n",
       "0                                     False   \n",
       "1                                     False   \n",
       "2                                     False   \n",
       "3                                     False   \n",
       "4                                      True   \n",
       "\n",
       "   discretized_others_positive_comment_score  \\\n",
       "0                                       True   \n",
       "1                                       True   \n",
       "2                                       True   \n",
       "3                                      False   \n",
       "4                                       True   \n",
       "\n",
       "   discretized_others_negative_comment_score            topic  \n",
       "0                                       True  web development  \n",
       "1                                      False  web development  \n",
       "2                                      False  web development  \n",
       "3                                      False        community  \n",
       "4                                       True        community  "
      ]
     },
     "execution_count": 2,
     "metadata": {},
     "output_type": "execute_result"
    }
   ],
   "source": [
    "csv_directory = os.getcwd()[:-23] + 'dataset\\\\'\n",
    "csv_file = 'features.csv'\n",
    "csv_file_path = os.path.join(csv_directory, csv_file)\n",
    "dataset = pd.read_csv(csv_file_path, delimiter=';', usecols=['is_featured', 'version', 'tags_number', 'score', \n",
    "                                                             'is_best_time_to_launch', 'is_best_day_to_launch', 'is_weekend', \n",
    "                                                             'discretized_positive_description_score', \n",
    "                                                             'discretized_negative_description_score', \n",
    "                                                             'text_description_length', \n",
    "                                                             'sentence_length_in_the_description', \n",
    "                                                             'bullet_points_explicit_features', \n",
    "                                                             'emoji_in_description', 'tagline_length', 'emoji_in_tagline', \n",
    "                                                             'are_there_video', 'are_there_tweetable_images', \n",
    "                                                             'are_there_gif_images', 'number_of_gif', 'offers', \n",
    "                                                             'promo_discount_codes', 'are_there_questions', \n",
    "                                                             'hunter_has_twitter', 'hunter_has_website', 'hunter_followers', \n",
    "                                                             'hunter_apps_made', 'hunter_follows_up_on_comments', \n",
    "                                                             'maker_has_twitter', 'maker_has_website', 'maker_followers', \n",
    "                                                             'maker_started_comment_thread', 'maker_comment_ratio', \n",
    "                                                             'thread_length', 'hunter_is_maker', \n",
    "                                                             'discretized_maker_positive_comment_score', \n",
    "                                                             'discretized_maker_negative_comment_score', \n",
    "                                                             'discretized_others_positive_comment_score', \n",
    "                                                             'discretized_others_negative_comment_score', \n",
    "                                                             'topic'])\n",
    "pd.set_option('display.max_columns', 39)\n",
    "dataset.head()"
   ]
  },
  {
   "cell_type": "code",
   "execution_count": null,
   "metadata": {},
   "outputs": [],
   "source": []
  },
  {
   "cell_type": "markdown",
   "metadata": {},
   "source": [
    "# Test di normalità sulle variabili numeriche del dataset"
   ]
  },
  {
   "cell_type": "code",
   "execution_count": 3,
   "metadata": {},
   "outputs": [
    {
     "data": {
      "text/html": [
       "<div>\n",
       "<style scoped>\n",
       "    .dataframe tbody tr th:only-of-type {\n",
       "        vertical-align: middle;\n",
       "    }\n",
       "\n",
       "    .dataframe tbody tr th {\n",
       "        vertical-align: top;\n",
       "    }\n",
       "\n",
       "    .dataframe thead th {\n",
       "        text-align: right;\n",
       "    }\n",
       "</style>\n",
       "<table border=\"1\" class=\"dataframe\">\n",
       "  <thead>\n",
       "    <tr style=\"text-align: right;\">\n",
       "      <th></th>\n",
       "      <th>version</th>\n",
       "      <th>tags_number</th>\n",
       "      <th>score</th>\n",
       "      <th>number_of_gif</th>\n",
       "      <th>maker_comment_ratio</th>\n",
       "      <th>thread_length</th>\n",
       "    </tr>\n",
       "  </thead>\n",
       "  <tbody>\n",
       "    <tr>\n",
       "      <th>0</th>\n",
       "      <td>1.0</td>\n",
       "      <td>4</td>\n",
       "      <td>2771</td>\n",
       "      <td>0</td>\n",
       "      <td>0.0</td>\n",
       "      <td>21</td>\n",
       "    </tr>\n",
       "    <tr>\n",
       "      <th>1</th>\n",
       "      <td>1.0</td>\n",
       "      <td>6</td>\n",
       "      <td>313</td>\n",
       "      <td>0</td>\n",
       "      <td>0.0</td>\n",
       "      <td>3</td>\n",
       "    </tr>\n",
       "    <tr>\n",
       "      <th>2</th>\n",
       "      <td>1.0</td>\n",
       "      <td>2</td>\n",
       "      <td>442</td>\n",
       "      <td>0</td>\n",
       "      <td>0.0</td>\n",
       "      <td>1</td>\n",
       "    </tr>\n",
       "    <tr>\n",
       "      <th>3</th>\n",
       "      <td>1.0</td>\n",
       "      <td>3</td>\n",
       "      <td>208</td>\n",
       "      <td>0</td>\n",
       "      <td>0.0</td>\n",
       "      <td>3</td>\n",
       "    </tr>\n",
       "    <tr>\n",
       "      <th>4</th>\n",
       "      <td>1.0</td>\n",
       "      <td>4</td>\n",
       "      <td>166</td>\n",
       "      <td>1</td>\n",
       "      <td>0.0</td>\n",
       "      <td>8</td>\n",
       "    </tr>\n",
       "  </tbody>\n",
       "</table>\n",
       "</div>"
      ],
      "text/plain": [
       "   version  tags_number  score  number_of_gif  maker_comment_ratio  \\\n",
       "0      1.0            4   2771              0                  0.0   \n",
       "1      1.0            6    313              0                  0.0   \n",
       "2      1.0            2    442              0                  0.0   \n",
       "3      1.0            3    208              0                  0.0   \n",
       "4      1.0            4    166              1                  0.0   \n",
       "\n",
       "   thread_length  \n",
       "0             21  \n",
       "1              3  \n",
       "2              1  \n",
       "3              3  \n",
       "4              8  "
      ]
     },
     "execution_count": 3,
     "metadata": {},
     "output_type": "execute_result"
    }
   ],
   "source": [
    "numerical_data = dataset[['version', 'tags_number', 'score', 'number_of_gif', 'maker_comment_ratio', 'thread_length']]\n",
    "numerical_data.head()"
   ]
  },
  {
   "cell_type": "code",
   "execution_count": 4,
   "metadata": {},
   "outputs": [],
   "source": [
    "def histogram_plot(data, histogram_title, figure_name):\n",
    "    plt.figure(figsize=(7,6))\n",
    "    plt.title(histogram_title, fontsize=14)\n",
    "    plt.hist(data)\n",
    "    plt.savefig(figure_name)"
   ]
  },
  {
   "cell_type": "code",
   "execution_count": 5,
   "metadata": {},
   "outputs": [],
   "source": [
    "def qq_plot(data, figure_name):\n",
    "    plt.figure(figsize=(7,6))\n",
    "    qqplot(data, line='s')\n",
    "    plt.savefig(figure_name)"
   ]
  },
  {
   "cell_type": "code",
   "execution_count": 6,
   "metadata": {},
   "outputs": [],
   "source": [
    "def shapiro_test(data):\n",
    "    stat, p_value = shapiro(data)\n",
    "    print(\"Statistics = {:.3f}, p-value = {:.3f}\".format(stat, p_value))\n",
    "    alpha = 0.05\n",
    "    if p_value > alpha:\n",
    "        print('Sample looks Gaussian (fail to reject H0)')\n",
    "    else:\n",
    "        print('Sample does not look Gaussian (reject H0)')"
   ]
  },
  {
   "cell_type": "markdown",
   "metadata": {},
   "source": [
    "### Variabile *version*"
   ]
  },
  {
   "cell_type": "code",
   "execution_count": 7,
   "metadata": {},
   "outputs": [
    {
     "data": {
      "image/png": "[encoded data removed]",
      "text/plain": [
       "<Figure size 504x432 with 1 Axes>"
      ]
     },
     "metadata": {
      "needs_background": "light"
     },
     "output_type": "display_data"
    }
   ],
   "source": [
    "histogram_plot(numerical_data['version'], 'Distribution of version variable', 'version_distribution_(histogram).png')"
   ]
  },
  {
   "cell_type": "code",
   "execution_count": 8,
   "metadata": {},
   "outputs": [
    {
     "data": {
      "text/plain": [
       "<Figure size 504x432 with 0 Axes>"
      ]
     },
     "metadata": {},
     "output_type": "display_data"
    },
    {
     "data": {
      "image/png": "[encoded data removed]",
      "text/plain": [
       "<Figure size 432x288 with 1 Axes>"
      ]
     },
     "metadata": {
      "needs_background": "light"
     },
     "output_type": "display_data"
    }
   ],
   "source": [
    "qq_plot(numerical_data['version'], 'version_distribution_(quantile-quantile).png')"
   ]
  },
  {
   "cell_type": "code",
   "execution_count": 9,
   "metadata": {},
   "outputs": [
    {
     "name": "stdout",
     "output_type": "stream",
     "text": [
      "Statistics = 0.270, p-value = 0.000\n",
      "Sample does not look Gaussian (reject H0)\n"
     ]
    }
   ],
   "source": [
    "shapiro_test(numerical_data['version'])"
   ]
  },
  {
   "cell_type": "markdown",
   "metadata": {},
   "source": [
    "### Variabile *tags number*"
   ]
  },
  {
   "cell_type": "code",
   "execution_count": 10,
   "metadata": {},
   "outputs": [
    {
     "data": {
      "image/png": "[encoded data removed]",
      "text/plain": [
       "<Figure size 504x432 with 1 Axes>"
      ]
     },
     "metadata": {
      "needs_background": "light"
     },
     "output_type": "display_data"
    }
   ],
   "source": [
    "histogram_plot(numerical_data['tags_number'], 'Distribution of tags number variable', \n",
    "               'tags_number_distribution_(histogram).png')"
   ]
  },
  {
   "cell_type": "code",
   "execution_count": 11,
   "metadata": {},
   "outputs": [
    {
     "data": {
      "text/plain": [
       "<Figure size 504x432 with 0 Axes>"
      ]
     },
     "metadata": {},
     "output_type": "display_data"
    },
    {
     "data": {
      "image/png": "[encoded data removed]",
      "text/plain": [
       "<Figure size 432x288 with 1 Axes>"
      ]
     },
     "metadata": {
      "needs_background": "light"
     },
     "output_type": "display_data"
    }
   ],
   "source": [
    "qq_plot(numerical_data['tags_number'], 'tags_number_distribution_(quantile-quantile).png')"
   ]
  },
  {
   "cell_type": "code",
   "execution_count": 12,
   "metadata": {},
   "outputs": [
    {
     "name": "stdout",
     "output_type": "stream",
     "text": [
      "Statistics = 0.861, p-value = 0.000\n",
      "Sample does not look Gaussian (reject H0)\n"
     ]
    }
   ],
   "source": [
    "shapiro_test(numerical_data['tags_number'])"
   ]
  },
  {
   "cell_type": "markdown",
   "metadata": {},
   "source": [
    "### Variabile score"
   ]
  },
  {
   "cell_type": "code",
   "execution_count": 13,
   "metadata": {},
   "outputs": [
    {
     "data": {
      "image/png": "[encoded data removed]",
      "text/plain": [
       "<Figure size 504x432 with 1 Axes>"
      ]
     },
     "metadata": {
      "needs_background": "light"
     },
     "output_type": "display_data"
    }
   ],
   "source": [
    "histogram_plot(numerical_data['score'], 'Distribution of score variable', 'score_distribution_(histogram).png')"
   ]
  },
  {
   "cell_type": "code",
   "execution_count": 14,
   "metadata": {},
   "outputs": [
    {
     "data": {
      "text/plain": [
       "<Figure size 504x432 with 0 Axes>"
      ]
     },
     "metadata": {},
     "output_type": "display_data"
    },
    {
     "data": {
      "image/png": "[encoded data removed]",
      "text/plain": [
       "<Figure size 432x288 with 1 Axes>"
      ]
     },
     "metadata": {
      "needs_background": "light"
     },
     "output_type": "display_data"
    }
   ],
   "source": [
    "qq_plot(numerical_data['score'], 'score_distribution_(quantile-quantile).png')"
   ]
  },
  {
   "cell_type": "code",
   "execution_count": 15,
   "metadata": {},
   "outputs": [
    {
     "name": "stdout",
     "output_type": "stream",
     "text": [
      "Statistics = 0.612, p-value = 0.000\n",
      "Sample does not look Gaussian (reject H0)\n"
     ]
    }
   ],
   "source": [
    "shapiro_test(numerical_data['score'])"
   ]
  },
  {
   "cell_type": "markdown",
   "metadata": {},
   "source": [
    "### Variabile *number of gif*"
   ]
  },
  {
   "cell_type": "code",
   "execution_count": 16,
   "metadata": {},
   "outputs": [
    {
     "data": {
      "image/png": "[encoded data removed]",
      "text/plain": [
       "<Figure size 504x432 with 1 Axes>"
      ]
     },
     "metadata": {
      "needs_background": "light"
     },
     "output_type": "display_data"
    }
   ],
   "source": [
    "histogram_plot(numerical_data['number_of_gif'], 'Distribution of number of gif variable', \n",
    "               'number_of_gif_distribution_(histogram).png')"
   ]
  },
  {
   "cell_type": "code",
   "execution_count": 17,
   "metadata": {},
   "outputs": [
    {
     "data": {
      "text/plain": [
       "<Figure size 504x432 with 0 Axes>"
      ]
     },
     "metadata": {},
     "output_type": "display_data"
    },
    {
     "data": {
      "image/png": "[encoded data removed]",
      "text/plain": [
       "<Figure size 432x288 with 1 Axes>"
      ]
     },
     "metadata": {
      "needs_background": "light"
     },
     "output_type": "display_data"
    }
   ],
   "source": [
    "qq_plot(numerical_data['number_of_gif'], 'number_of_gif_distribution_(quantile-quantile).png')"
   ]
  },
  {
   "cell_type": "code",
   "execution_count": 18,
   "metadata": {},
   "outputs": [
    {
     "name": "stdout",
     "output_type": "stream",
     "text": [
      "Statistics = 0.515, p-value = 0.000\n",
      "Sample does not look Gaussian (reject H0)\n"
     ]
    }
   ],
   "source": [
    "shapiro_test(numerical_data['number_of_gif'])"
   ]
  },
  {
   "cell_type": "markdown",
   "metadata": {},
   "source": [
    "### Variabile *maker comment ratio*"
   ]
  },
  {
   "cell_type": "code",
   "execution_count": 19,
   "metadata": {},
   "outputs": [
    {
     "data": {
      "image/png": "[encoded data removed]",
      "text/plain": [
       "<Figure size 504x432 with 1 Axes>"
      ]
     },
     "metadata": {
      "needs_background": "light"
     },
     "output_type": "display_data"
    }
   ],
   "source": [
    "histogram_plot(numerical_data['maker_comment_ratio'], 'Distribution of maker comment ratio variable', \n",
    "               'maker_comment_ratio_distribution_(histogram).png')"
   ]
  },
  {
   "cell_type": "code",
   "execution_count": 20,
   "metadata": {},
   "outputs": [
    {
     "data": {
      "text/plain": [
       "<Figure size 504x432 with 0 Axes>"
      ]
     },
     "metadata": {},
     "output_type": "display_data"
    },
    {
     "data": {
      "image/png": "[encoded data removed]",
      "text/plain": [
       "<Figure size 432x288 with 1 Axes>"
      ]
     },
     "metadata": {
      "needs_background": "light"
     },
     "output_type": "display_data"
    }
   ],
   "source": [
    "qq_plot(numerical_data['maker_comment_ratio'], 'maker_comment_ratio_distribution_(quantile-quantile).png')"
   ]
  },
  {
   "cell_type": "code",
   "execution_count": 21,
   "metadata": {},
   "outputs": [
    {
     "name": "stdout",
     "output_type": "stream",
     "text": [
      "Statistics = 0.505, p-value = 0.000\n",
      "Sample does not look Gaussian (reject H0)\n"
     ]
    }
   ],
   "source": [
    "shapiro_test(numerical_data['maker_comment_ratio'])"
   ]
  },
  {
   "cell_type": "markdown",
   "metadata": {},
   "source": [
    "### Variabile *thread length*"
   ]
  },
  {
   "cell_type": "code",
   "execution_count": 22,
   "metadata": {},
   "outputs": [
    {
     "data": {
      "image/png": "[encoded data removed]",
      "text/plain": [
       "<Figure size 504x432 with 1 Axes>"
      ]
     },
     "metadata": {
      "needs_background": "light"
     },
     "output_type": "display_data"
    }
   ],
   "source": [
    "histogram_plot(numerical_data['thread_length'], 'Distribution of thread length variable', \n",
    "               'thread_length_distribution_(histogram).png')"
   ]
  },
  {
   "cell_type": "code",
   "execution_count": 23,
   "metadata": {},
   "outputs": [
    {
     "data": {
      "text/plain": [
       "<Figure size 504x432 with 0 Axes>"
      ]
     },
     "metadata": {},
     "output_type": "display_data"
    },
    {
     "data": {
      "image/png": "[encoded data removed]",
      "text/plain": [
       "<Figure size 432x288 with 1 Axes>"
      ]
     },
     "metadata": {
      "needs_background": "light"
     },
     "output_type": "display_data"
    }
   ],
   "source": [
    "qq_plot(numerical_data['thread_length'], 'thread_length_distribution_(quantile-quantile).png')"
   ]
  },
  {
   "cell_type": "code",
   "execution_count": 24,
   "metadata": {},
   "outputs": [
    {
     "name": "stdout",
     "output_type": "stream",
     "text": [
      "Statistics = 0.615, p-value = 0.000\n",
      "Sample does not look Gaussian (reject H0)\n"
     ]
    }
   ],
   "source": [
    "shapiro_test(numerical_data['thread_length'])"
   ]
  },
  {
   "cell_type": "code",
   "execution_count": null,
   "metadata": {},
   "outputs": [],
   "source": []
  }
 ],
 "metadata": {
  "kernelspec": {
   "display_name": "Python 3",
   "language": "python",
   "name": "python3"
  },
  "language_info": {
   "codemirror_mode": {
    "name": "ipython",
    "version": 3
   },
   "file_extension": ".py",
   "mimetype": "text/x-python",
   "name": "python",
   "nbconvert_exporter": "python",
   "pygments_lexer": "ipython3",
   "version": "3.7.3"
  }
 },
 "nbformat": 4,
 "nbformat_minor": 2
}
