{
 "cells": [
  {
   "cell_type": "code",
   "execution_count": 1,
   "metadata": {},
   "outputs": [],
   "source": [
    "import os\n",
    "import pandas as pd\n",
    "import numpy as np\n",
    "from matplotlib import pyplot as plt\n",
    "%matplotlib inline"
   ]
  },
  {
   "cell_type": "code",
   "execution_count": 2,
   "metadata": {},
   "outputs": [],
   "source": [
    "csv_directory = os.getcwd()[:-40] + 'dataset\\\\'\n",
    "dataset = 'features.csv'\n",
    "csv_path = os.path.join(csv_directory, dataset)\n",
    "mydata = pd.read_csv(csv_path, delimiter=';', usecols=['is_featured', 'version', 'tags_number', 'score', \n",
    "                                                       'is_best_time_to_launch', 'is_best_day_to_launch', \n",
    "                                                       'is_weekend', \n",
    "                                                       'discretized_positive_description_score', \n",
    "                                                       'discretized_negative_description_score', \n",
    "                                                       'text_description_length', \n",
    "                                                       'sentence_length_in_the_description', 'bullet_points_explicit_features', \n",
    "                                                       'emoji_in_description', 'tagline_length', 'emoji_in_tagline', \n",
    "                                                       'are_there_video', 'are_there_tweetable_images', 'are_there_gif_images', \n",
    "                                                       'number_of_gif', 'offers', 'promo_discount_codes', \n",
    "                                                       'are_there_questions', 'hunter_has_twitter', 'hunter_has_website', \n",
    "                                                       'hunter_followers', 'hunter_apps_made', 'hunter_follows_up_on_comments', \n",
    "                                                       'maker_has_twitter', 'maker_has_website', 'maker_followers', \n",
    "                                                       'maker_started_comment_thread', 'maker_comment_ratio', 'thread_length',\n",
    "                                                       'hunter_is_maker', \n",
    "                                                       'discretized_maker_positive_comment_score', \n",
    "                                                       'discretized_maker_negative_comment_score', \n",
    "                                                       'discretized_others_positive_comment_score', \n",
    "                                                       'discretized_others_negative_comment_score', \n",
    "                                                       'topic'])\n",
    "\n",
    "mydata = mydata.rename(columns = {'discretized_positive_description_score': 'positive_description_sentiment', \n",
    "                         'discretized_negative_description_score': 'negative_description_sentiment', \n",
    "                         'discretized_maker_positive_comment_score': 'maker_positive_comment',\n",
    "                         'discretized_maker_negative_comment_score': 'maker_negative_comment',\n",
    "                         'discretized_others_positive_comment_score': 'others_positive_comment', \n",
    "                         'discretized_others_negative_comment_score': 'others_negative_comment'})"
   ]
  },
  {
   "cell_type": "code",
   "execution_count": 3,
   "metadata": {},
   "outputs": [],
   "source": [
    "target = mydata['is_featured']  # dependent variable\n",
    "mydata = mydata.drop(['is_featured'], axis=1)  # independent variables"
   ]
  },
  {
   "cell_type": "code",
   "execution_count": 4,
   "metadata": {},
   "outputs": [],
   "source": [
    "target = target.replace({'Yes': 1, 'No': 0})\n",
    "\n",
    "mydata = pd.get_dummies(mydata, columns=['is_best_time_to_launch', 'is_best_day_to_launch', 'is_weekend', \n",
    "                                         'positive_description_sentiment', 'negative_description_sentiment',\n",
    "                                         'bullet_points_explicit_features', 'emoji_in_description', 'emoji_in_tagline', \n",
    "                                         'are_there_video', 'are_there_tweetable_images', 'are_there_gif_images', 'offers', \n",
    "                                         'promo_discount_codes', 'are_there_questions', 'hunter_has_twitter', \n",
    "                                         'hunter_has_website', 'hunter_follows_up_on_comments', 'maker_has_twitter', \n",
    "                                         'maker_has_website', 'maker_started_comment_thread', 'hunter_is_maker', \n",
    "                                         'maker_positive_comment', 'maker_negative_comment', 'others_positive_comment', \n",
    "                                         'others_negative_comment'], \n",
    "                        drop_first=True)\n",
    "mydata = mydata.rename(columns = {'positive_description_sentiment_True': 'positive_description_sentiment', \n",
    "                                  'negative_description_sentiment_True': 'negative_description_sentiment', \n",
    "                                  'maker_positive_comment_True': 'maker_positive_comment', \n",
    "                                  'maker_negative_comment_True': 'maker_negative_comment', \n",
    "                                  'others_positive_comment_True': 'others_positive_comment', \n",
    "                                  'others_negative_comment_True': 'others_negative_comment'})\n",
    "\n",
    "mydata = pd.get_dummies(mydata, columns=['text_description_length', 'sentence_length_in_the_description', 'tagline_length', \n",
    "                                         'hunter_followers', 'hunter_apps_made', 'maker_followers'])\n",
    "mydata = mydata.drop(['text_description_length_Short', 'sentence_length_in_the_description_Short', 'tagline_length_Short', \n",
    "                     'hunter_followers_High', 'hunter_apps_made_High', 'maker_followers_High'], axis=1)\n",
    "\n",
    "mydata = pd.get_dummies(mydata, columns = ['topic'])\n",
    "mydata = mydata.drop(['topic_web development'], axis=1)"
   ]
  },
  {
   "cell_type": "code",
   "execution_count": 5,
   "metadata": {},
   "outputs": [],
   "source": [
    "from sklearn.model_selection import train_test_split\n",
    "\n",
    "trainX, testX, trainy, testy = train_test_split(mydata, target, test_size=0.3, train_size=0.7, random_state=30)"
   ]
  },
  {
   "cell_type": "code",
   "execution_count": 6,
   "metadata": {},
   "outputs": [
    {
     "data": {
      "text/plain": [
       "LogisticRegression(C=1.0, class_weight=None, dual=False, fit_intercept=True,\n",
       "                   intercept_scaling=1, l1_ratio=None, max_iter=100,\n",
       "                   multi_class='warn', n_jobs=None, penalty='l2',\n",
       "                   random_state=None, solver='liblinear', tol=0.0001, verbose=0,\n",
       "                   warm_start=False)"
      ]
     },
     "execution_count": 6,
     "metadata": {},
     "output_type": "execute_result"
    }
   ],
   "source": [
    "from sklearn.linear_model import LogisticRegression\n",
    "\n",
    "model = LogisticRegression(solver='liblinear')\n",
    "model.fit(trainX, trainy)"
   ]
  },
  {
   "cell_type": "code",
   "execution_count": 7,
   "metadata": {},
   "outputs": [],
   "source": [
    "# predict probabilities\n",
    "lr_probs = model.predict_proba(testX)\n",
    "lr_probs = lr_probs[:, 1]"
   ]
  },
  {
   "cell_type": "code",
   "execution_count": 8,
   "metadata": {},
   "outputs": [],
   "source": [
    "from sklearn.metrics import auc\n",
    "from sklearn.metrics import roc_auc_score\n",
    "from sklearn.metrics import roc_curve"
   ]
  },
  {
   "cell_type": "code",
   "execution_count": 9,
   "metadata": {},
   "outputs": [
    {
     "name": "stdout",
     "output_type": "stream",
     "text": [
      "AUC Value = 0.984\n"
     ]
    }
   ],
   "source": [
    "lr_auc = roc_auc_score(testy, lr_probs)\n",
    "print(\"AUC Value = {}\".format(round(lr_auc, 3))) "
   ]
  },
  {
   "cell_type": "code",
   "execution_count": 10,
   "metadata": {},
   "outputs": [
    {
     "data": {
      "image/png": "[encoded data removed]",
      "text/plain": [
       "<Figure size 720x504 with 1 Axes>"
      ]
     },
     "metadata": {
      "needs_background": "light"
     },
     "output_type": "display_data"
    }
   ],
   "source": [
    "# calculate and show ROC Curve\n",
    "lr_fpr, lr_tpr, threshold = roc_curve(testy, lr_probs)\n",
    "plt.figure(figsize=(10,7))\n",
    "plt.plot(lr_fpr, lr_tpr, label='Logistic Regression (area = %0.2f)' % lr_auc)\n",
    "plt.plot([0, 1], [0, 1], 'r--')\n",
    "plt.xlim([0.0, 1.0])\n",
    "plt.ylim([0.0, 1.05])\n",
    "plt.xlabel('False Positive Rate')\n",
    "plt.ylabel('True Positive Rate')\n",
    "plt.title('Receiver operating characteristic')\n",
    "plt.legend(loc=\"lower right\")\n",
    "plt.savefig('AUC_ROC_Curve.png')\n",
    "plt.show()"
   ]
  },
  {
   "cell_type": "code",
   "execution_count": null,
   "metadata": {},
   "outputs": [],
   "source": []
  }
 ],
 "metadata": {
  "kernelspec": {
   "display_name": "Python 3",
   "language": "python",
   "name": "python3"
  },
  "language_info": {
   "codemirror_mode": {
    "name": "ipython",
    "version": 3
   },
   "file_extension": ".py",
   "mimetype": "text/x-python",
   "name": "python",
   "nbconvert_exporter": "python",
   "pygments_lexer": "ipython3",
   "version": "3.7.3"
  }
 },
 "nbformat": 4,
 "nbformat_minor": 2
}
